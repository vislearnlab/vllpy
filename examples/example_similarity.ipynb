{
 "cells": [
  {
   "cell_type": "code",
   "execution_count": 15,
   "metadata": {},
   "outputs": [],
   "source": [
    "from vislearnlabpy.embeddings.generate_embeddings import EmbeddingGenerator\n",
    "from vislearnlabpy.embeddings.embedding_store import EmbeddingStore\n",
    "from vislearnlabpy.embeddings.similarity_utils import text_image_sims_from_stores, csv_to_text_pairs, plot_rdm\n",
    "import os\n",
    "import numpy as np"
   ]
  },
  {
   "cell_type": "markdown",
   "metadata": {},
   "source": [
    "## VisVocab testing\n",
    "An example of using the embedding store to get similarity scores between embeddings. "
   ]
  },
  {
   "cell_type": "code",
   "execution_count": 3,
   "metadata": {},
   "outputs": [],
   "source": [
    "generator = EmbeddingGenerator(device=\"cuda:0\", model_type=\"clip\", output_type= \"doc\")\n",
    "PROJECT_PATH = '/labs/vislearnlab/experiments/visvocab'\n",
    "# path to the csv with the trial metadata\n",
    "input_csv = os.path.join(\n",
    "                PROJECT_PATH, \"data\", \"metadata\", \"level-imagepair_data.csv\"\n",
    "            )\n",
    "# path to the images\n",
    "input_path = os.path.join(PROJECT_PATH, \"stimuli\", \"lookit\", \"exp1\", \"img\")"
   ]
  },
  {
   "cell_type": "code",
   "execution_count": null,
   "metadata": {},
   "outputs": [],
   "source": [
    "generator.generate_image_embeddings(output_path=\"visvocab\", input_csv=input_csv, input_dir=input_path, batch_size=100, id_column=None)\n",
    "image_embedding_store = EmbeddingStore.from_doc(\"visvocab/image_embeddings/clip_image_embeddings_doc.docs\")\n",
    "text_embedding_store = EmbeddingStore.from_doc(\"visvocab/text_embeddings/clip_text_embeddings_doc.docs\")"
   ]
  },
  {
   "cell_type": "markdown",
   "metadata": {},
   "source": [
    "Checking if embeddings look good."
   ]
  },
  {
   "cell_type": "code",
   "execution_count": null,
   "metadata": {},
   "outputs": [],
   "source": [
    "docs, scores = image_embedding_store.search_store(text_query=\"turkey\")\n",
    "print(docs.text)\n",
    "print(scores)"
   ]
  },
  {
   "cell_type": "markdown",
   "metadata": {},
   "source": [
    "Retrieving cosine similarities by default."
   ]
  },
  {
   "cell_type": "code",
   "execution_count": 7,
   "metadata": {},
   "outputs": [],
   "source": [
    "specific_sim_pairs = csv_to_text_pairs(input_csv)\n",
    "text_image_sims_from_stores(text_embedding_store, image_embedding_store, \"output/sims/similarities.csv\", specific_sim_pairs)"
   ]
  },
  {
   "cell_type": "markdown",
   "metadata": {},
   "source": [
    "RDM"
   ]
  },
  {
   "cell_type": "code",
   "execution_count": 16,
   "metadata": {},
   "outputs": [],
   "source": [
    "plot_rdm(\"output/sims\", np.stack(image_embedding_store.EmbeddingList.embedding))"
   ]
  }
 ],
 "metadata": {
  "kernelspec": {
   "display_name": "vllpy",
   "language": "python",
   "name": "python3"
  },
  "language_info": {
   "codemirror_mode": {
    "name": "ipython",
    "version": 3
   },
   "file_extension": ".py",
   "mimetype": "text/x-python",
   "name": "python",
   "nbconvert_exporter": "python",
   "pygments_lexer": "ipython3",
   "version": "3.12.9"
  }
 },
 "nbformat": 4,
 "nbformat_minor": 2
}
