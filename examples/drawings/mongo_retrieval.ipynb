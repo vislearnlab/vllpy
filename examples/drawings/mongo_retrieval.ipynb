{
 "cells": [
  {
   "cell_type": "code",
   "execution_count": null,
   "metadata": {},
   "outputs": [],
   "source": [
    "# Uncomment these lines if you have not installed any packages yet\n",
    "# !pip install vislearnlabpy"
   ]
  },
  {
   "cell_type": "markdown",
   "metadata": {},
   "source": [
    "To open in Google CoLab: https://colab.research.google.com/github/vislearnlab/vllpy/blob/main/examples/drawings/mongo_retrieval.ipynb"
   ]
  },
  {
   "cell_type": "code",
   "execution_count": null,
   "metadata": {},
   "outputs": [],
   "source": [
    "import os\n",
    "from pathlib import Path\n",
    "\n",
    "from PIL import Image\n",
    "import pymongo as pm\n",
    "from dotenv import load_dotenv\n",
    "load_dotenv()\n",
    "from vislearnlabpy.extractions.drawingtask_extractor import DrawingTaskExtractor\n",
    "from vislearnlabpy.drawings.svg_render_helpers import StrokeSettings"
   ]
  },
  {
   "cell_type": "markdown",
   "metadata": {},
   "source": [
    "Fill out the fields below. Also make sure to fill in your username and password into an auth.txt file, using a similar format to how the auth_template.txt file is set up, before running the commands below."
   ]
  },
  {
   "cell_type": "code",
   "execution_count": null,
   "metadata": {},
   "outputs": [],
   "source": [
    "# make sure to add password to a .env file\n",
    "DATABASE_NAME = \"kiddraw\"\n",
    "COLLECTION_NAME = \"cdm_birch_v1\" # collections to play around with: \"birch_run_v1\", \"cdm_hybrid_v1\", \"cdm_run_v8\", \"india_run_v1\"\n",
    "SAVE_DIR = \"birch_draw\" # often set to /Volumes/vislearnlab/experiments/drawings/data.."
   ]
  },
  {
   "cell_type": "markdown",
   "metadata": {},
   "source": [
    "This is the Mongo extractor"
   ]
  },
  {
   "cell_type": "code",
   "execution_count": null,
   "metadata": {},
   "outputs": [],
   "source": [
    "# do not commit this auth.txt file!\n",
    "auth_file = \"auth.txt\"\n",
    "with open(auth_file, \"r\") as f:\n",
    "    mongo_connection_string = f.readline().strip()\n",
    "# use a different extractor object for different collections\n",
    "birch_extractor = DrawingTaskExtractor(mongo_connection_string, DATABASE_NAME, \"birch_run_v1\", SAVE_DIR)"
   ]
  },
  {
   "cell_type": "markdown",
   "metadata": {},
   "source": [
    "Can be used to directly prompt Mongo with PyMongo"
   ]
  },
  {
   "cell_type": "code",
   "execution_count": null,
   "metadata": {},
   "outputs": [],
   "source": [
    "all_images = list(birch_extractor.collection.find({'$and': [{'dataType':'finalImage'}]}))\n",
    "print(f\"Total final images in {birch_extractor.collection.name}: {len(all_images)}\")"
   ]
  },
  {
   "cell_type": "markdown",
   "metadata": {},
   "source": [
    "Or can extract full datasets as needed."
   ]
  },
  {
   "cell_type": "code",
   "execution_count": null,
   "metadata": {},
   "outputs": [],
   "source": [
    "# transform_file \n",
    "birch_extractor.extract_images(transform_file=True)"
   ]
  },
  {
   "cell_type": "code",
   "execution_count": null,
   "metadata": {},
   "outputs": [],
   "source": [
    "birch_extractor.extract_audio()"
   ]
  },
  {
   "cell_type": "markdown",
   "metadata": {},
   "source": [
    "Extracting strokes! By defualt extracted as png but you can extract gifs as well!"
   ]
  },
  {
   "cell_type": "markdown",
   "metadata": {},
   "source": [
    "Extracting all whale pngs for BD004. Remove the filter to save all strokes across categories."
   ]
  },
  {
   "cell_type": "code",
   "execution_count": null,
   "metadata": {},
   "outputs": [],
   "source": [
    "birch_extractor.extract_strokes(save_type=\"png\", category=[\"a whale\"], participant_id=[\"BD004\"])"
   ]
  },
  {
   "cell_type": "markdown",
   "metadata": {},
   "source": [
    "These are the SVG values for each stroke that can be rendered as png files etc. You can play around with the speed and line width, etc. We don't have overwrite built in yet so you might have to delete the file or change the save directory each time for now, apologies."
   ]
  },
  {
   "cell_type": "code",
   "execution_count": null,
   "metadata": {},
   "outputs": [],
   "source": [
    "stroke_settings = StrokeSettings(line_width=5, \n",
    "                                 # lower stroke duration multiplier is faster! 0.5 is equivalent to 1 second in 500 ms\n",
    "                                 stroke_duration_multiplier=0.5,\n",
    "                                 edgecolor='black',\n",
    "                                 fps=15,\n",
    "                                 # bigger = higher res\n",
    "                                 imsize=6)"
   ]
  },
  {
   "cell_type": "code",
   "execution_count": null,
   "metadata": {},
   "outputs": [],
   "source": [
    "birch_extractor.extract_strokes(save_type=\"gif\", category=[\"a whale\"], participant_id=[\"BD004\"], stroke_settings=stroke_settings)"
   ]
  }
 ],
 "metadata": {
  "kernelspec": {
   "display_name": "vllpy",
   "language": "python",
   "name": "python3"
  },
  "language_info": {
   "codemirror_mode": {
    "name": "ipython",
    "version": 3
   },
   "file_extension": ".py",
   "mimetype": "text/x-python",
   "name": "python",
   "nbconvert_exporter": "python",
   "pygments_lexer": "ipython3",
   "version": "3.11.13"
  }
 },
 "nbformat": 4,
 "nbformat_minor": 2
}
