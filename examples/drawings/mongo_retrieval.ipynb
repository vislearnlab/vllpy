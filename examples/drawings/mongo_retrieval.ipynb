{
 "cells": [
  {
   "cell_type": "code",
   "execution_count": 1,
   "metadata": {},
   "outputs": [],
   "source": [
    "# Uncomment these lines if you have not installed any packages yet\n",
    "# !pip install vislearnlabpy"
   ]
  },
  {
   "cell_type": "code",
   "execution_count": 2,
   "metadata": {},
   "outputs": [],
   "source": [
    "import os\n",
    "from pathlib import Path\n",
    "\n",
    "from PIL import Image\n",
    "import pymongo as pm\n",
    "from dotenv import load_dotenv\n",
    "load_dotenv()\n",
    "from vislearnlabpy.extractions.drawings import MongoExtractor"
   ]
  },
  {
   "cell_type": "markdown",
   "metadata": {},
   "source": [
    "Fill out the fields below. Copy the .env_template file to a .env file and enter your username and password."
   ]
  },
  {
   "cell_type": "code",
   "execution_count": 3,
   "metadata": {},
   "outputs": [],
   "source": [
    "# make sure to add password to a .env file\n",
    "DATABASE_NAME = \"kiddraw\"\n",
    "COLLECTION_NAME = \"birch_run_v1\"\n",
    "SAVE_DIR = Path(os.getcwd()) / \"mongo_output\" # often set to /Volumes/vislearnlab/experiments/drawings/data.."
   ]
  },
  {
   "cell_type": "markdown",
   "metadata": {},
   "source": [
    "This is the Mongo extractor"
   ]
  },
  {
   "cell_type": "code",
   "execution_count": 4,
   "metadata": {},
   "outputs": [],
   "source": [
    "extractor = MongoExtractor(os.getenv(\"MONGO_CONNECTION\"), DATABASE_NAME, COLLECTION_NAME, SAVE_DIR)"
   ]
  },
  {
   "cell_type": "markdown",
   "metadata": {},
   "source": [
    "Can be used to directly prompt Mongo with PyMongo"
   ]
  },
  {
   "cell_type": "code",
   "execution_count": null,
   "metadata": {},
   "outputs": [],
   "source": [
    "all_images = list(extractor.collection.find({'$and': [{'dataType':'finalImage'}]}))\n",
    "print(f\"Total final images in {extractor.collection.name}: {len(all_images)}\")"
   ]
  },
  {
   "cell_type": "markdown",
   "metadata": {},
   "source": [
    "Or can extract full datasets as needed."
   ]
  },
  {
   "cell_type": "code",
   "execution_count": null,
   "metadata": {},
   "outputs": [],
   "source": [
    "extractor.extract_images(transform_file=True)"
   ]
  },
  {
   "cell_type": "code",
   "execution_count": null,
   "metadata": {},
   "outputs": [],
   "source": [
    "extractor.extract_audio()"
   ]
  },
  {
   "cell_type": "markdown",
   "metadata": {},
   "source": [
    "Extracting strokes!"
   ]
  },
  {
   "cell_type": "code",
   "execution_count": 5,
   "metadata": {},
   "outputs": [],
   "source": [
    "shark_strokes = list(extractor.collection\n",
    "                     \n",
    "# sessionId is the unique identifier for each participant session\n",
    "                .find({#\"sessionId\": session_id,\n",
    "                    \n",
    "                    \"dataType\": \"stroke\",\n",
    "\n",
    "# Trial number is the index of the trial of the current participant\n",
    "                    #\"trialNum\": trial_num,\n",
    "\n",
    "# Categories usually include articles, you can find all the categories here: (https://github.com/brialorelle/museumkiosk/blob/83fff9902c2cdd4369540c1feed5c3a1be1c655f/code/experiment/trial-sequence.js#L37)\n",
    "                    \"category\": \"a shark\"\n",
    "                    }).sort(\"startTrialTime\"))"
   ]
  },
  {
   "cell_type": "markdown",
   "metadata": {},
   "source": [
    "These are the SVG values for each stroke that can be rendered as png files etc."
   ]
  },
  {
   "cell_type": "code",
   "execution_count": null,
   "metadata": {},
   "outputs": [],
   "source": [
    "[s['svg'] for s in shark_strokes]"
   ]
  }
 ],
 "metadata": {
  "kernelspec": {
   "display_name": "Python 3",
   "language": "python",
   "name": "python3"
  },
  "language_info": {
   "codemirror_mode": {
    "name": "ipython",
    "version": 3
   },
   "file_extension": ".py",
   "mimetype": "text/x-python",
   "name": "python",
   "nbconvert_exporter": "python",
   "pygments_lexer": "ipython3",
   "version": "3.11.13"
  }
 },
 "nbformat": 4,
 "nbformat_minor": 2
}
