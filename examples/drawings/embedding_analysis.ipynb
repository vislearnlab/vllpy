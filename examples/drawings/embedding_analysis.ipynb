{
 "cells": [
  {
   "cell_type": "code",
   "execution_count": null,
   "metadata": {},
   "outputs": [],
   "source": [
    "# Uncomment these lines if you have not installed any packages yet\n",
    "# !pip install vislearnlabpy\n",
    "# !pip install git+https://github.com/openai/CLIP.git\n",
    "# !pip install torch torchvision torchaudio"
   ]
  },
  {
   "cell_type": "markdown",
   "metadata": {},
   "source": [
    "To open in Google CoLab: https://colab.research.google.com/github/vislearnlab/vllpy/blob/main/examples/drawings/embedding_analysis.ipynb"
   ]
  },
  {
   "cell_type": "code",
   "execution_count": 1,
   "metadata": {},
   "outputs": [
    {
     "name": "stderr",
     "output_type": "stream",
     "text": [
      "/opt/miniconda3/envs/vllpy/lib/python3.11/site-packages/pydantic/_migration.py:283: UserWarning: `pydantic.error_wrappers:ValidationError` has been moved to `pydantic:ValidationError`.\n",
      "  warnings.warn(f'`{import_path}` has been moved to `{new_location}`.')\n"
     ]
    }
   ],
   "source": [
    "from vislearnlabpy.embeddings.generate_embeddings import EmbeddingGenerator\n",
    "from vislearnlabpy.embeddings.embedding_store import EmbeddingStore\n",
    "from vislearnlabpy.embeddings.utils import display_search_results, zscore_embeddings \n",
    "import numpy as np\n",
    "import pandas as pd\n",
    "import os\n",
    "from pathlib import Path"
   ]
  },
  {
   "cell_type": "code",
   "execution_count": 2,
   "metadata": {},
   "outputs": [],
   "source": [
    "SAVE_DIR = Path(os.getcwd()) / \"mongo_output\" # often set to /Volumes/vislearnlab/experiments/drawings/data..\n",
    "drawings_df = pd.read_csv(Path(SAVE_DIR / \"AllDescriptives_images_final_birch_run_v1.csv\"))"
   ]
  },
  {
   "cell_type": "code",
   "execution_count": 8,
   "metadata": {},
   "outputs": [
    {
     "data": {
      "text/html": [
       "<div>\n",
       "<style scoped>\n",
       "    .dataframe tbody tr th:only-of-type {\n",
       "        vertical-align: middle;\n",
       "    }\n",
       "\n",
       "    .dataframe tbody tr th {\n",
       "        vertical-align: top;\n",
       "    }\n",
       "\n",
       "    .dataframe thead th {\n",
       "        text-align: right;\n",
       "    }\n",
       "</style>\n",
       "<table border=\"1\" class=\"dataframe\">\n",
       "  <thead>\n",
       "    <tr style=\"text-align: right;\">\n",
       "      <th></th>\n",
       "      <th>session_id</th>\n",
       "      <th>trial_num</th>\n",
       "      <th>category</th>\n",
       "      <th>participantID</th>\n",
       "      <th>filename</th>\n",
       "      <th>submit_time</th>\n",
       "      <th>submit_date</th>\n",
       "      <th>submit_date_readable</th>\n",
       "      <th>start_time</th>\n",
       "      <th>trial_duration</th>\n",
       "      <th>num_strokes</th>\n",
       "      <th>draw_duration</th>\n",
       "      <th>mean_intensity</th>\n",
       "      <th>bounding_box</th>\n",
       "    </tr>\n",
       "  </thead>\n",
       "  <tbody>\n",
       "    <tr>\n",
       "      <th>0</th>\n",
       "      <td>cdm_run_v81751572998320</td>\n",
       "      <td>2</td>\n",
       "      <td>square</td>\n",
       "      <td>Aj001</td>\n",
       "      <td>/Users/visuallearninglab/Documents/vllpy/examp...</td>\n",
       "      <td>1.751573e+12</td>\n",
       "      <td>2025-07-03T20:08:34.631Z</td>\n",
       "      <td>2025-07-03 13:08:34.631000</td>\n",
       "      <td>1.751573e+12</td>\n",
       "      <td>11.518</td>\n",
       "      <td>1</td>\n",
       "      <td>6.222</td>\n",
       "      <td>0.013652</td>\n",
       "      <td>(np.int64(55), np.int64(163), np.int64(43), np...</td>\n",
       "    </tr>\n",
       "    <tr>\n",
       "      <th>1</th>\n",
       "      <td>cdm_run_v81751572998320</td>\n",
       "      <td>3</td>\n",
       "      <td>shape</td>\n",
       "      <td>Aj001</td>\n",
       "      <td>/Users/visuallearninglab/Documents/vllpy/examp...</td>\n",
       "      <td>1.751573e+12</td>\n",
       "      <td>2025-07-03T20:09:16.334Z</td>\n",
       "      <td>2025-07-03 13:09:16.334000</td>\n",
       "      <td>1.751573e+12</td>\n",
       "      <td>14.430</td>\n",
       "      <td>1</td>\n",
       "      <td>9.650</td>\n",
       "      <td>0.015525</td>\n",
       "      <td>(np.int64(0), np.int64(215), np.int64(23), np....</td>\n",
       "    </tr>\n",
       "    <tr>\n",
       "      <th>2</th>\n",
       "      <td>cdm_run_v81751572998320</td>\n",
       "      <td>4</td>\n",
       "      <td>this_square</td>\n",
       "      <td>Aj001</td>\n",
       "      <td>/Users/visuallearninglab/Documents/vllpy/examp...</td>\n",
       "      <td>1.751573e+12</td>\n",
       "      <td>2025-07-03T20:09:37.053Z</td>\n",
       "      <td>2025-07-03 13:09:37.053000</td>\n",
       "      <td>1.751573e+12</td>\n",
       "      <td>13.693</td>\n",
       "      <td>3</td>\n",
       "      <td>3.407</td>\n",
       "      <td>0.011460</td>\n",
       "      <td>(np.int64(47), np.int64(140), np.int64(56), np...</td>\n",
       "    </tr>\n",
       "    <tr>\n",
       "      <th>3</th>\n",
       "      <td>cdm_run_v81751572998320</td>\n",
       "      <td>6</td>\n",
       "      <td>a_shark</td>\n",
       "      <td>Aj001</td>\n",
       "      <td>/Users/visuallearninglab/Documents/vllpy/examp...</td>\n",
       "      <td>1.751573e+12</td>\n",
       "      <td>2025-07-03T20:11:15.066Z</td>\n",
       "      <td>2025-07-03 13:11:15.066000</td>\n",
       "      <td>1.751573e+12</td>\n",
       "      <td>21.236</td>\n",
       "      <td>9</td>\n",
       "      <td>14.274</td>\n",
       "      <td>0.018654</td>\n",
       "      <td>(np.int64(52), np.int64(151), np.int64(1), np....</td>\n",
       "    </tr>\n",
       "    <tr>\n",
       "      <th>4</th>\n",
       "      <td>cdm_run_v81751572998320</td>\n",
       "      <td>8</td>\n",
       "      <td>a_crab</td>\n",
       "      <td>Aj001</td>\n",
       "      <td>/Users/visuallearninglab/Documents/vllpy/examp...</td>\n",
       "      <td>1.751574e+12</td>\n",
       "      <td>2025-07-03T20:12:37.435Z</td>\n",
       "      <td>2025-07-03 13:12:37.435000</td>\n",
       "      <td>1.751574e+12</td>\n",
       "      <td>27.682</td>\n",
       "      <td>10</td>\n",
       "      <td>14.633</td>\n",
       "      <td>0.017997</td>\n",
       "      <td>(np.int64(68), np.int64(183), np.int64(38), np...</td>\n",
       "    </tr>\n",
       "  </tbody>\n",
       "</table>\n",
       "</div>"
      ],
      "text/plain": [
       "                session_id  trial_num     category participantID  \\\n",
       "0  cdm_run_v81751572998320          2       square         Aj001   \n",
       "1  cdm_run_v81751572998320          3        shape         Aj001   \n",
       "2  cdm_run_v81751572998320          4  this_square         Aj001   \n",
       "3  cdm_run_v81751572998320          6      a_shark         Aj001   \n",
       "4  cdm_run_v81751572998320          8       a_crab         Aj001   \n",
       "\n",
       "                                            filename   submit_time  \\\n",
       "0  /Users/visuallearninglab/Documents/vllpy/examp...  1.751573e+12   \n",
       "1  /Users/visuallearninglab/Documents/vllpy/examp...  1.751573e+12   \n",
       "2  /Users/visuallearninglab/Documents/vllpy/examp...  1.751573e+12   \n",
       "3  /Users/visuallearninglab/Documents/vllpy/examp...  1.751573e+12   \n",
       "4  /Users/visuallearninglab/Documents/vllpy/examp...  1.751574e+12   \n",
       "\n",
       "                submit_date        submit_date_readable    start_time  \\\n",
       "0  2025-07-03T20:08:34.631Z  2025-07-03 13:08:34.631000  1.751573e+12   \n",
       "1  2025-07-03T20:09:16.334Z  2025-07-03 13:09:16.334000  1.751573e+12   \n",
       "2  2025-07-03T20:09:37.053Z  2025-07-03 13:09:37.053000  1.751573e+12   \n",
       "3  2025-07-03T20:11:15.066Z  2025-07-03 13:11:15.066000  1.751573e+12   \n",
       "4  2025-07-03T20:12:37.435Z  2025-07-03 13:12:37.435000  1.751574e+12   \n",
       "\n",
       "   trial_duration  num_strokes  draw_duration  mean_intensity  \\\n",
       "0          11.518            1          6.222        0.013652   \n",
       "1          14.430            1          9.650        0.015525   \n",
       "2          13.693            3          3.407        0.011460   \n",
       "3          21.236            9         14.274        0.018654   \n",
       "4          27.682           10         14.633        0.017997   \n",
       "\n",
       "                                        bounding_box  \n",
       "0  (np.int64(55), np.int64(163), np.int64(43), np...  \n",
       "1  (np.int64(0), np.int64(215), np.int64(23), np....  \n",
       "2  (np.int64(47), np.int64(140), np.int64(56), np...  \n",
       "3  (np.int64(52), np.int64(151), np.int64(1), np....  \n",
       "4  (np.int64(68), np.int64(183), np.int64(38), np...  "
      ]
     },
     "execution_count": 8,
     "metadata": {},
     "output_type": "execute_result"
    }
   ],
   "source": [
    "#make sure the filename field is pointing to the right location, this is very important. Otherwise you will have to do some string manipulation to make sure it is\n",
    "drawings_df.head() "
   ]
  },
  {
   "cell_type": "code",
   "execution_count": 16,
   "metadata": {},
   "outputs": [],
   "source": [
    "def remap_path(full_path, new_base):\n",
    "    \"\"\"\n",
    "    Given a full path to a file and a new base directory, returns a new path\n",
    "    that keeps only the parent and grandparent directories of the file, prepended by new_base.\n",
    "\n",
    "    Example:\n",
    "        Input:\n",
    "            full_path = \".../mongo_output/sketches_full_dataset/square/image.png\"\n",
    "            new_base = \"/mnt/data/output\"\n",
    "\n",
    "        Output:\n",
    "            Path(\"/mnt/data/output/square/image.png\")\n",
    "    \"\"\"\n",
    "    original = Path(full_path)\n",
    "    parent = original.parent.name            # e.g. \"a_shark\"\n",
    "    \n",
    "    return str(Path(new_base) / parent / original.name)"
   ]
  },
  {
   "cell_type": "code",
   "execution_count": 9,
   "metadata": {},
   "outputs": [],
   "source": [
    "# renaming columns in the format our embedding generator expects them to be in\n",
    "drawings_df = drawings_df.rename(columns={\n",
    "    'filename': 'image1',\n",
    "    'category': 'text1'\n",
    "})\n",
    "# getting rid of articles\n",
    "drawings_df['text1'] = drawings_df['text1'].apply(lambda x: x.split('_')[-1])\n",
    "\n",
    "#remap path if needed: new_base=\"/file/storage/path\"\n",
    "#drawings_df[\"image1\"] = drawings_df[\"image1\"].apply(lambda x: remap_path(x, new_base))\n",
    "\n",
    "# Filtering to just our actual participants\n",
    "filtered_df = drawings_df[drawings_df['participantID'].str.lower().str.contains('bd')]\n",
    "filtered_df.to_csv(\"tmp_draw_df.csv\")"
   ]
  },
  {
   "cell_type": "markdown",
   "metadata": {},
   "source": [
    "Our embedding generator"
   ]
  },
  {
   "cell_type": "code",
   "execution_count": 25,
   "metadata": {},
   "outputs": [],
   "source": [
    "# change device=\"cuda\" or \"cuda:2\" etc if you are using with GPU\n",
    "clip_generator = EmbeddingGenerator(model_type=\"clip\", device=\"cpu\", output_type=\"doc\") \n",
    "# setting text prompt to \"a drawing of a xx\" will make sure CLIP knows it's looking at drawings\n",
    "clip_generator.model.text_prompt = \"a drawing of a\""
   ]
  },
  {
   "cell_type": "markdown",
   "metadata": {},
   "source": [
    "We're storing our embeddings in DocArray lists so that they are accessible and loadable from a single file and are directly linked to their file paths and category names"
   ]
  },
  {
   "cell_type": "code",
   "execution_count": null,
   "metadata": {},
   "outputs": [],
   "source": [
    "clip_generator.generate_image_embeddings(output_path=\"sketch_embeddings\", input_csv=\"tmp_draw_df.csv\", batch_size=100, id_column=\"image1\", overwrite=True)"
   ]
  },
  {
   "cell_type": "markdown",
   "metadata": {},
   "source": [
    "Loading our image embeddings and text embeddings"
   ]
  },
  {
   "cell_type": "code",
   "execution_count": 3,
   "metadata": {},
   "outputs": [
    {
     "name": "stderr",
     "output_type": "stream",
     "text": [
      "WARNING:root:local_cache is not supported for \"file\" protocol\n"
     ]
    },
    {
     "data": {
      "text/html": [
       "<pre style=\"white-space:pre;overflow-x:auto;line-height:normal;font-family:Menlo,'DejaVu Sans Mono',consolas,'Courier New',monospace\">/opt/miniconda3/envs/vllpy/lib/python3.11/site-packages/rich/live.py:231: UserWarning: install \"ipywidgets\" for \n",
       "Jupyter support\n",
       "  warnings.warn('install \"ipywidgets\" for Jupyter support')\n",
       "</pre>\n"
      ],
      "text/plain": [
       "/opt/miniconda3/envs/vllpy/lib/python3.11/site-packages/rich/live.py:231: UserWarning: install \"ipywidgets\" for \n",
       "Jupyter support\n",
       "  warnings.warn('install \"ipywidgets\" for Jupyter support')\n"
      ]
     },
     "metadata": {},
     "output_type": "display_data"
    },
    {
     "data": {
      "text/html": [
       "<pre style=\"white-space:pre;overflow-x:auto;line-height:normal;font-family:Menlo,'DejaVu Sans Mono',consolas,'Courier New',monospace\"></pre>\n"
      ],
      "text/plain": []
     },
     "metadata": {},
     "output_type": "display_data"
    },
    {
     "name": "stderr",
     "output_type": "stream",
     "text": [
      "WARNING:root:local_cache is not supported for \"file\" protocol\n"
     ]
    },
    {
     "data": {
      "text/html": [
       "<pre style=\"white-space:pre;overflow-x:auto;line-height:normal;font-family:Menlo,'DejaVu Sans Mono',consolas,'Courier New',monospace\"></pre>\n"
      ],
      "text/plain": []
     },
     "metadata": {},
     "output_type": "display_data"
    }
   ],
   "source": [
    "image_embedding_store = EmbeddingStore.from_doc(\"sketch_embeddings/image_embeddings/clip_image_embeddings_doc.docs\")\n",
    "text_embedding_store = EmbeddingStore.from_doc(\"sketch_embeddings/text_embeddings/clip_text_embeddings_doc.docs\")"
   ]
  },
  {
   "cell_type": "markdown",
   "metadata": {},
   "source": [
    "An RDM at the category level."
   ]
  },
  {
   "cell_type": "code",
   "execution_count": 4,
   "metadata": {},
   "outputs": [
    {
     "name": "stdout",
     "output_type": "stream",
     "text": [
      "\n",
      "...Output directory did not exists. Creating directories.\n",
      "\n"
     ]
    },
    {
     "data": {
      "text/plain": [
       "array([[0.00000000e+00, 2.79111862e-02, 1.10335350e-02, 3.01397443e-02,\n",
       "        2.65619159e-02, 7.63664842e-02, 2.79201269e-02, 6.78842068e-02,\n",
       "        1.72900558e-02, 1.97846293e-02],\n",
       "       [2.79111862e-02, 0.00000000e+00, 3.24439406e-02, 4.39851284e-02,\n",
       "        1.80369616e-02, 6.75517321e-02, 1.21345520e-02, 6.24303222e-02,\n",
       "        1.53005123e-02, 8.49807262e-03],\n",
       "       [1.10335350e-02, 3.24439406e-02, 0.00000000e+00, 3.00901532e-02,\n",
       "        3.30119729e-02, 7.33634233e-02, 3.76954079e-02, 7.73026943e-02,\n",
       "        2.28877068e-02, 2.77327299e-02],\n",
       "       [3.01397443e-02, 4.39851284e-02, 3.00901532e-02, 0.00000000e+00,\n",
       "        3.95927429e-02, 9.37950015e-02, 4.16791439e-02, 9.88795161e-02,\n",
       "        3.34191322e-02, 3.29193473e-02],\n",
       "       [2.65619159e-02, 1.80369616e-02, 3.30119729e-02, 3.95927429e-02,\n",
       "        0.00000000e+00, 5.16197681e-02, 2.28781700e-02, 5.20437360e-02,\n",
       "        1.82853341e-02, 1.90573335e-02],\n",
       "       [7.63664842e-02, 6.75517321e-02, 7.33634233e-02, 9.37950015e-02,\n",
       "        5.16197681e-02, 0.00000000e+00, 7.17787743e-02, 7.73613453e-02,\n",
       "        6.96352720e-02, 7.62555003e-02],\n",
       "       [2.79201269e-02, 1.21345520e-02, 3.76954079e-02, 4.16791439e-02,\n",
       "        2.28781700e-02, 7.17787743e-02, 0.00000000e+00, 6.96153045e-02,\n",
       "        1.74273252e-02, 5.77777624e-03],\n",
       "       [6.78842068e-02, 6.24303222e-02, 7.73026943e-02, 9.88795161e-02,\n",
       "        5.20437360e-02, 7.73613453e-02, 6.96153045e-02, 5.96046448e-08,\n",
       "        5.50166368e-02, 6.75541759e-02],\n",
       "       [1.72900558e-02, 1.53005123e-02, 2.28877068e-02, 3.34191322e-02,\n",
       "        1.82853341e-02, 6.96352720e-02, 1.74273252e-02, 5.50166368e-02,\n",
       "        0.00000000e+00, 1.18710995e-02],\n",
       "       [1.97846293e-02, 8.49807262e-03, 2.77327299e-02, 3.29193473e-02,\n",
       "        1.90573335e-02, 7.62555003e-02, 5.77777624e-03, 6.75541759e-02,\n",
       "        1.18710995e-02, 5.96046448e-08]], dtype=float32)"
      ]
     },
     "execution_count": 4,
     "metadata": {},
     "output_type": "execute_result"
    }
   ],
   "source": [
    "image_embedding_store.compute_text_rdm(output_path=\"rdm\")"
   ]
  },
  {
   "cell_type": "markdown",
   "metadata": {},
   "source": [
    "Just sanity checking that our text embeddings look like we expect them to."
   ]
  },
  {
   "cell_type": "code",
   "execution_count": 3,
   "metadata": {},
   "outputs": [
    {
     "data": {
      "text/plain": [
       "['turtle',\n",
       " 'shape',\n",
       " 'seahorse',\n",
       " 'octopus',\n",
       " 'penguin',\n",
       " 'shark',\n",
       " 'fish',\n",
       " 'crab',\n",
       " 'square',\n",
       " 'whale']"
      ]
     },
     "execution_count": 3,
     "metadata": {},
     "output_type": "execute_result"
    }
   ],
   "source": [
    "text_embedding_store.EmbeddingList.text"
   ]
  },
  {
   "cell_type": "markdown",
   "metadata": {},
   "source": [
    "Search through our embedding store for 'sharks' "
   ]
  },
  {
   "cell_type": "code",
   "execution_count": null,
   "metadata": {},
   "outputs": [],
   "source": [
    "docs, scores = image_embedding_store.search_store(text_query=\"shark\", limit=10)\n",
    "display_search_results(docs, scores)"
   ]
  },
  {
   "cell_type": "markdown",
   "metadata": {},
   "source": [
    "Now only using drawings that were originally labeled as shark"
   ]
  },
  {
   "cell_type": "code",
   "execution_count": null,
   "metadata": {},
   "outputs": [],
   "source": [
    "docs, scores = image_embedding_store.search_store(text_query=\"shark\", limit=10, categories=[\"shark\"])\n",
    "display_search_results(docs, scores)"
   ]
  },
  {
   "cell_type": "markdown",
   "metadata": {},
   "source": [
    "Now see how recognizable different images are"
   ]
  },
  {
   "cell_type": "code",
   "execution_count": 44,
   "metadata": {},
   "outputs": [
    {
     "data": {
      "image/png": "[encoded data removed]",
      "text/plain": [
       "<Figure size 800x400 with 1 Axes>"
      ]
     },
     "metadata": {},
     "output_type": "display_data"
    }
   ],
   "source": [
    "from vislearnlabpy.embeddings.similarity_utils import calculate_accuracy\n",
    "import pandas as pd\n",
    "import matplotlib.pyplot as plt\n",
    "from collections import defaultdict\n",
    "\n",
    "records = []\n",
    "for doc in image_embedding_store.EmbeddingList:\n",
    "    acc = calculate_accuracy(\n",
    "        doc.embedding,\n",
    "        text_embedding_store.EmbeddingList,\n",
    "        doc.text\n",
    "    )\n",
    "    records.append(\n",
    "        {\n",
    "            \"category\": doc.text,\n",
    "            \"accuracy\": acc,\n",
    "            \"url\": doc.url,          # can calculate age etc. here from ID extracted from URL\n",
    "        }\n",
    "    )\n",
    "df = pd.DataFrame(records)\n",
    "mean_df = (\n",
    "    df.groupby(\"category\", as_index=False)[\"accuracy\"]\n",
    "      .mean()\n",
    "      .query(\"accuracy > 0\")          # keep positives only\n",
    "      .sort_values(\"accuracy\")        # ascending for barh order\n",
    ")\n",
    "plt.figure(figsize=(8, max(4, len(mean_df) * 0.25)))\n",
    "plt.barh(mean_df[\"category\"], mean_df[\"accuracy\"]) # horizontal for readable labels\n",
    "plt.xlabel(\"Mean recognizability (probability)\")\n",
    "plt.title(\"Average recognizability per category\")\n",
    "plt.tight_layout()\n",
    "plt.show()"
   ]
  },
  {
   "cell_type": "markdown",
   "metadata": {},
   "source": [
    "Save embeddings and recognizability values as CSV files for processing in R etc."
   ]
  },
  {
   "cell_type": "code",
   "execution_count": 42,
   "metadata": {},
   "outputs": [],
   "source": [
    "text_embedding_store.to_base_csv(\"sketch_embeddings/text_embeddings/clip_text_embeddings.csv\")\n",
    "image_embedding_store.to_base_csv(\"sketch_embeddings/image_embeddings/clip_image_embeddings.csv\")\n",
    "df.to_csv(\"recognizability.csv\")"
   ]
  },
  {
   "cell_type": "markdown",
   "metadata": {},
   "source": [
    "Z-score embeddings before saving if needed"
   ]
  },
  {
   "cell_type": "code",
   "execution_count": 43,
   "metadata": {},
   "outputs": [],
   "source": [
    "image_embedding_store.EmbeddingList.normalized_embedding = zscore_embeddings(np.stack(image_embedding_store.EmbeddingList.embedding))\n",
    "# image_embedding_store.EmbeddingList.embedding = image_embedding_store.EmbeddingList.normalized_embedding\n",
    "# image_embedding_store.to_base_csv(\"sketch_embeddings/image_embeddings/clip_image_embeddings.csv\")"
   ]
  }
 ],
 "metadata": {
  "kernelspec": {
   "display_name": "Python 3",
   "language": "python",
   "name": "python3"
  },
  "language_info": {
   "codemirror_mode": {
    "name": "ipython",
    "version": 3
   },
   "file_extension": ".py",
   "mimetype": "text/x-python",
   "name": "python",
   "nbconvert_exporter": "python",
   "pygments_lexer": "ipython3",
   "version": "3.11.13"
  }
 },
 "nbformat": 4,
 "nbformat_minor": 2
}
